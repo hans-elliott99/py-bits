{
 "cells": [
  {
   "cell_type": "code",
   "execution_count": 28,
   "metadata": {},
   "outputs": [],
   "source": [
    "import cv2\n",
    "import numpy as np\n",
    "import matplotlib.pyplot as plt"
   ]
  },
  {
   "cell_type": "code",
   "execution_count": 4,
   "metadata": {},
   "outputs": [
    {
     "data": {
      "text/plain": [
       "51"
      ]
     },
     "execution_count": 4,
     "metadata": {},
     "output_type": "execute_result"
    }
   ],
   "source": [
    "density = \"Ñ@#W$9876543210?!abc;:+=-,._\"\n",
    "density = density + \" \"*(51-len(density))\n",
    "len(density)"
   ]
  },
  {
   "cell_type": "code",
   "execution_count": 18,
   "metadata": {},
   "outputs": [],
   "source": [
    "pix2asc = {i : density[i] for i in range(0, 255//5)}\n",
    "def get_ascii(value):\n",
    "    idx = int(value // 5)\n",
    "    if idx == 51:\n",
    "        idx -= 1\n",
    "    return(pix2asc[idx])"
   ]
  },
  {
   "cell_type": "code",
   "execution_count": 42,
   "metadata": {},
   "outputs": [
    {
     "data": {
      "text/plain": [
       "9.6"
      ]
     },
     "execution_count": 42,
     "metadata": {},
     "output_type": "execute_result"
    }
   ],
   "source": [
    "960 / 100"
   ]
  },
  {
   "cell_type": "code",
   "execution_count": 71,
   "metadata": {},
   "outputs": [
    {
     "data": {
      "text/plain": [
       "(1280, 960)"
      ]
     },
     "execution_count": 71,
     "metadata": {},
     "output_type": "execute_result"
    }
   ],
   "source": [
    "IM_SIZE = 40\n",
    "\n",
    "# Read image\n",
    "image = cv2.imread(\"C:\\\\Users\\\\hanse\\\\OneDrive\\\\Pictures\\\\me.jpg\")\n",
    "image = cv2.cvtColor(image, cv2.COLOR_BGR2RGB)\n",
    "image = cv2.cvtColor(image, cv2.COLOR_RGB2GRAY)\n",
    "image.shape"
   ]
  },
  {
   "cell_type": "code",
   "execution_count": 69,
   "metadata": {},
   "outputs": [
    {
     "data": {
      "text/plain": [
       "<matplotlib.image.AxesImage at 0x1bf516b1480>"
      ]
     },
     "execution_count": 69,
     "metadata": {},
     "output_type": "execute_result"
    },
    {
     "data": {
      "image/png": "[encoded data removed]",
      "text/plain": [
       "<Figure size 432x288 with 1 Axes>"
      ]
     },
     "metadata": {
      "needs_background": "light"
     },
     "output_type": "display_data"
    }
   ],
   "source": [
    "# Resize and convert to grayscale (for example by taking the mean)\n",
    "h = int(image.shape[0] / (image.shape[0] // IM_SIZE))\n",
    "w = int(image.shape[1] / (image.shape[1] // IM_SIZE))\n",
    "image = cv2.resize(image, (h, w), interpolation = cv2.INTER_AREA)\n",
    "image = np.mean(image, axis=2)\n",
    "plt.imshow(image, cmap=\"bone\")"
   ]
  },
  {
   "cell_type": "code",
   "execution_count": 51,
   "metadata": {},
   "outputs": [],
   "source": [
    "u, inv = np.unique(image, return_inverse=True)\n",
    "output = np.array([get_ascii(p) for p in u])[inv].reshape(image.shape)"
   ]
  },
  {
   "cell_type": "code",
   "execution_count": 52,
   "metadata": {},
   "outputs": [
    {
     "name": "stdout",
     "output_type": "stream",
     "text": [
      "          __ _,+;ccccccccc;;::;;;;;cc;;c;;;;:::;:::::::::::::::::++::::+++:;:::::+:::::::::::::;ccccbbbbbb\n",
      "          _..  .-+;:+cccccc;;;;;;;;;;;c;;;:::::::;;:::::::::::::++++:::+::;::::::+;;;;:::;:;:;;ccccccbbbbb\n",
      "           _,, _.,,-+;ccbbcc;;;;;;;;;;;;;;;::::::;:::;:::::::::::::::::+:;;;;;;;;;cc;;:::::::;;;cccccbbbbb\n",
      "           _,--,-+=:::ccccccccccc;;;;;;;;;;::+::::::::::::::::::::::::::;;;;cc;cccc;;;;:::::;;;;ccccbbbbbb\n",
      "            .,--===+:;;cccccccccccccc;;;;;::::::::;::::::::::;:::;::;;;;:;:ccccc;;;;;:::::;:;:;;cccbbbbbbb\n",
      "            ,=+==:+:;;;cccccccccccccc;;;:;::::::::::+::::::;;:;::;;;;c;;;;;ccccccc;;;:::::::::;cccbbbbbb;;\n",
      "            .+::=+::;;;cccccccbccccccccc;;;:::::+:::++++:::::;;:;;;;;;;;;;cccccccc;;:::::::::;;ccbbbbbc;;:\n",
      "            _=;;;;;;c;;cccccccbcccccccc;;;::::++++++++++++::::::;;;;;;;;;;cccccc;;:::::::::::;ccbbccbc::::\n",
      "           _.=+;;;cccc;ccbbbbbbbbcbccccc;;;;;:::+++++++++++:::::::;;;;;;;;ccccc;;::::++::::+:;cccccc;::+==\n",
      "           ,++:;;ccccc;ccccccccccccccccc;;;;;;;::++:++++++::::::::;;;;;;;;;ccc;;:::::++:::++:;;c;cc;::==--\n",
      "            _+;;;;;ccc;ccccccccccccccccc;;;:;;;::+====+::::::::++:::::::;;ccc;;:::::+++::++=::::;;:+=--=--\n",
      "             ,+:;;;;cccccccccccccccccccc;;;;;;:++++++++::::;;::++++::++:;;;c;+++++:++=+++==+:+:;:+===-----\n",
      "              ,::;;;;;c;ccccccccccccccccc;;;;;::+:+++++:::::::+====+++:::::+=++++=++=======++++:+===-,,,--\n",
      "              ,-::::;;;;;;;cc;;ccccccccccc;;;:::++++++++++++==--==-===+:::+--==+=================--=-,,---\n",
      "              _.,+:::;;;;;;;;;;;;;;;;;;;ccc;;;:::+++++++::+=--------=-+++==------======-------====--,,----\n",
      "             .,,.__,=:;;;;;;;;;;;;;;;;;;;;;;;;;:+++++++:::+==--,------==+==--=--====-------=====+=-,,,----\n",
      "                .,,,,-==;:;;;;;;;::;;::;;;;;;;::++++++++::+=--,,,-----==============-,,--==+==++=-,,-,----\n",
      "               .--======+:;::::::+:::::::;;;;;::::++==++++++=-,-------==============-,,-==++++++---,,,--=,\n",
      "               _ -=++++++-:::::::::++:::::::::::++====++++++---,,-,--,-====++++===----==++++++-=------,---\n",
      "               .==++=+=+=++++:+++:::++:+::+:+++++===---==-===----,,--,--====+++++=--===+++++==-=-,,,-----,\n",
      "               _,====+++-==++++++++:===+++++++++++===---,-==---,,,,-,,,---===+++=======+++====-,-,------,,\n",
      "                ..-====+=--======++++===+++++++++++==--,,,,,---,,,,-,,,,-===++======--=++==-==--,,-----,,,\n",
      "                _,,-=-====-====-===++=--=+==-=++++++++=-,,,..,,,-,,---,.,==+++======--+==-=++=-=------,,._\n",
      "                  .,,,,,-=.-------=====-.,-=,-==++++++=,,,....,--=----,,,===============-=+++=-----,,,,,._\n",
      "                    _.--------,-----===-..,,.,-==+++++=,,.,,,,-----------=======-=========+++=--,,--,,....\n",
      "                    ,.--,,,--,,,---==---..,,...,==+++==,...,,,--=----==--=====+===+=======++=,,,,--,-,....\n",
      "                     _.,,,,,,,..,,------,.,,....,--===-,...,,----=======--===+=========--===---,-,,,..,.,,\n",
      "                       _.,,.,.....,,-----._,,...,,,---,_.,,,,-,--=-===----==+++=--====--,---=-,,,,,,,,,,,,\n",
      "                        .____..._...,,--,,...___.,,,--,..,,,,,,-,-,----,,-===++=--===,,,--,--,,,,,,,,,----\n",
      "                       __..,....___...,,,. ___ =...,,,__,.--.,,,,,_,-,._.,-==+=----=,,,,,.,-,,,,,------===\n",
      "                   _    __._...._  _..._     = c+,.. +b +--.-!....,--,_ _.,--==-=-=+=-,,,,,,--,-----====--\n",
      "                 _...__     _  ___  ____ _ _-- ,+.:1$2_52 ;-,?,....---.___.---=,-,,-===-.,--,-----=======-\n",
      "                ........_         _   _..._ --_:!a3@$6-W2:?060:-,..,-,..___.--=--,,,-=--,-,,,,--=++++===--\n",
      "                _......._               ___..= 13265$#W73=!1353 b..,--.._..--=-,,,....,,,----=++++++++====\n",
      "                _______                   _0+=!21498W##$#@0866a;-=.,,,,...,,,--,,.._.,,----==++++++=+===--\n",
      "   _._          _                         +2:-7537587b$76W$51??!1,.,,,,..,._...,,...,,,,,---=+++++++==----\n",
      "__  ___            ___                   __2=?8$656!a+    ?2!_25,,,.,,,,,..___....,,,,,,--=========-------\n",
      ".._  _                             __    +1+?7#5             896....,,,,.._____.....,,,--=====-----,-,,,..\n",
      "..._             _____         __________!9#97=              c$01__,.,,.._____..,,.,,,,-----,,,,,,,,,...._\n",
      "__________  _..__._______  _     ___....+83$66              -.?30..,._..............,,,--,,,,,,,,,,..._   \n",
      "_ ______  ___._______           ____ __..b+77b                +34,.__..,,,...,..__,.,,..,.....,....__     \n",
      "           __   ___             _______._.a;6c                ;77.._..,,.,,..__.,,.,__..__.______         \n",
      "                                _________._-6c-,               65....,,,,,.........,,___..______          \n",
      "                                 _______  __8=  ;c;: +ba0-     ?+ ...,,,.............________             \n",
      "                                 __ _       7=0?2341  a446=:    = .,.........______...____                \n",
      "                                             :a#9551              _.........._________  __                \n",
      "                                             :!?0=                __ ____.________                        \n",
      "                                       _     ;     _                    ________                          \n",
      "                                             -    =       a     _.__                                      \n",
      "                                              a- c_;   +a  3                                              \n",
      "                                              !!!=023442   ?                                              \n",
      "                                               1 0@$431a:a                                                \n",
      "                                               _b ?254+                                                   \n",
      "                                                +ba!!                                                     \n",
      "                                                Wa!aa_,        13!-                                       \n",
      "                                               9##?         =  :?0!aa!!c?!5!                              \n",
      "                                               W#@?2,     ;0   2123589856555=                             \n",
      "                                              8##Ñ212355631 133225522$ÑÑÑ@96                              \n",
      "                                             W#W#@Ñ4224544341232221010000@@8                              \n",
      "                                            8#25#7@ÑÑÑ@@#541122200?0?2233308                              \n",
      "                                        ,002321949@@ÑÑ@6 45533122115W4210202?                             \n",
      "                                     011111421325@$32647321?1125#72?12020?2100000:                        \n",
      "                                   021101112322220344426447WÑ9101111a012000001110???                      \n",
      "   _.                             011111201202111612117W75612200011001212100001?0????b                    \n",
      "                                 11112021112121121201!322101000?1010100?01101120??????!                   \n",
      "         _,                     10202111102012100622262110102001010012110111121!1?0??!!?                  \n",
      "- _                            12122221111121222?611301100012101001211!0?1013310010!?0!?a                 \n",
      "                  _            222211011121211210511522100?110100001101?003231?112!??0???;            !5?:\n",
      "                              1112222102122020000612312?1001121101000!?122111101101?!?20!0            c;2a\n",
      "                              131212102122200011142@30??111100100111000?0?123213?0!a!!20521           a6a:\n",
      "                             =123131121110120?11?1082200011200?1010??!00020233?5220?!?152440            64\n",
      "                             112123221001 --21010!?0230121100101?000?000a22121140210!!314352,341 !   :?077\n",
      "                            111112210122c  .   -  _4_ 0320102120101?!!b1001251?4110?a!1011740_       a86W3\n",
      "                            215220201001 a +    b   + b -  111111?1?!!?010?04??6300??02234951c9?. +   6$$b\n",
      "                           1242320113110   ,    c 43  ; + +1101!001?0!??1!21200330?0112124W52?86W:.  069$$\n",
      "                           224323001211   ! ,  3  70 .- .  012000a?0??011!3120?64??4122235@52!4;!9-   399$\n",
      "_          ,;    ,_  _ ,  222342311221  b00    a  a ?bc   ?10?0111??b?12?23230?52322322138#520a #7:+;15895\n",
      "  .  _  .= .             .133342220010;;!?00?1W0??5 a4  - ?0!?1a0?!1a?a??12120?3541233333@W420?9#;;!b20 6$\n",
      "c- a          _          223223111130 !.b-0??17020324?1!???00?00??00?1??11212107932232233@84220b-+?-+32 !8\n",
      "=+  .                   ,322231120121?!+ -?000?0?W21420?001?00?1?????!?0?123220Ñ82333233@#73210!b_  c02 a \n",
      ",      +_               232223120?121?0!?00?00?109212!00?110100!0?1a????0?34520@54442343@$5220??a 01 1=  +\n",
      "                       a22222221102120????!???002232200!001?0?1011?0!?00?102210#4332132@@6430000?a=  :?   \n",
      "                  _    2233132121111!??!1?010?0?0$32101!00????0??001b?1!200?20095432215@75320010?a   _    \n",
      ",          :  .       13464213111100????00?1?0!11?620!??11?00000?000000?22301109452222ÑW#8322100??!   _ . \n",
      "                      23346421?002111!aa!?0?00??105420??0?00101010201100013232?8532333Ñ7#@5112010!a;+    -\n",
      "           :         022335640100200?00?00?!!?1a2!120?31!100?102121210?0123300!7433343Ñ5#Ñ9210101!!b    c \n",
      " +  -3  ;;b          333225451111101!0a000!01?10102221010??01??0101220010?0211?6322443Ñ6@@82211?10?a;;    \n",
      "c=  =  .      =    = 2222224512121?0!0ba010!!!?!0a333?!0!11!1101121200013?101136455322@5ÑW733110110!aa-   \n",
      "            :_      224322213010010?00a!b0?a!a???!?41?a00!0000100122101220212?Ñ854534283ÑW643211011?a.:3; \n",
      "         +    -     22252234200200?2b?1!0?!!!a??0?2510!!0!1?1101001100?1423432@96664144@@95431210011?a 1-+\n",
      "      _ ::c-       12322234489531?0!1!!!!??!!?????1410b!1010?10001021?11234242?96765535Ñ@85422101?01?a a32\n",
      "      __ =     .,  22237#@@Ñ$$WW87000a!a1?!a!!?00?130100??000000200123233343351Ñ$97569@Ñ#754211110100?!c?_\n",
      "               2 .1344#@@ÑÑÑ$WW#$##20!aa!a?a1?!?01110!!!!!0?1?!2200211?11210131Ñ@8776@@@#85432211!011!?23=\n",
      "   ;    =       ?b147$@@@ÑÑÑWW#$#@#W3abcb!a!?!a!?01220!a?????0?0211112?1100100?ÑÑ9555Ñ@@W5435221100100?b65\n",
      ":    = :1=     !!:5W#@@@ÑÑÑÑ$W9##@@@W0abaaaa?!???0101?!a!!a!??100222110?!12000$Ñ@9#65@@#W55432322101000!57\n",
      ", + :c?a!     +b;1W#@@@ÑÑÑÑÑ$$W@@@@@#$!cacb!??a?0a?011??!!??!?!!000?0!???0?1014ÑÑÑ@89@@#855433122211001!a8\n",
      "  .bc;a      c-c 8##@@@ÑÑÑÑ#WW#@@@@@##7aaa!!?aa!!??01!?!a!!0!?!??0?0?10??01?015@ÑÑW$Ñ#W$6553322222221210??\n",
      "? a=. =.   ;+bb 3W@#@@@ÑÑÑW#$#@@@@@##W$1?!a!0?!???2101!b!??!?????0?0?0?000000046ÑÑ@#@#$967544033322100110b\n",
      ";c   -   0b!0,?cWW@@@@ÑÑÑ@#$#@@@@@@@##W920!?0??!!01??210!!???!?0??0??1?11000?127@ÑÑ@#W$77755232211221120?!\n",
      "   -   a:=:1?4c=$#@@@@ÑÑÑW9#@@@@@@@@###$40!10!001?1?10!?????0?!?00!000?101?101362ÑÑÑ@$$9$9654231221210020!\n",
      "     ?:+c0=3acb2##@@@@ÑÑ99#@@@@@@@#@@@##91?1200010?000000??2??!0?!100??0100100574WÑÑ#W$$$W7553321212112000\n",
      "c  +ab???a:?;bb$#@@@@ÑÑ99W#@@@@@@@@@@@@##61201?00!00011??2??!0????0?1!001?00015721ÑÑ@@$8WW5744332222121111\n",
      "c  1?1;-0_???4?W@@@ÑÑÑÑ9W@ÑÑÑÑ@@@@@@@@@@#W210?00010022?11?0?000100000?020211017821ÑÑÑ@##@@9862333211232121\n",
      "c;00?32!a_1abb8#@@ÑÑÑÑ9W#@ÑÑ@@@@@@@@@@@@##30300101021101?01?!001101110001210039620ÑÑÑÑ@@@##765442222232211\n",
      "!?2103?1?20!?2#@@@@ÑÑÑ9#@@@@@@@@@@@@@@@###40211?000?002120100101011012133121129421ÑÑÑÑÑ@@@$954333232221122\n",
      "032243b2?121?4#@@@@ÑÑ@W@@@@@@@@@@@@@@@@###812110?001111101000112211324442220368211ÑÑÑÑÑÑÑ@W$66331322112222\n"
     ]
    }
   ],
   "source": [
    "for row in output:\n",
    "    for char in row:\n",
    "        print(char, sep=\"\", end=\"\")\n",
    "    print(\"\")"
   ]
  }
 ],
 "metadata": {
  "kernelspec": {
   "display_name": "Python 3.10.4 64-bit",
   "language": "python",
   "name": "python3"
  },
  "language_info": {
   "codemirror_mode": {
    "name": "ipython",
    "version": 3
   },
   "file_extension": ".py",
   "mimetype": "text/x-python",
   "name": "python",
   "nbconvert_exporter": "python",
   "pygments_lexer": "ipython3",
   "version": "3.10.4"
  },
  "orig_nbformat": 4,
  "vscode": {
   "interpreter": {
    "hash": "32db7bf672a38b67d98c5acbb0a5547a38872d776ae322aa01dc9089c6c43093"
   }
  }
 },
 "nbformat": 4,
 "nbformat_minor": 2
}
